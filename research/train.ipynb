{
 "cells": [
  {
   "cell_type": "code",
   "execution_count": 1,
   "metadata": {},
   "outputs": [],
   "source": [
    "import pandas as pd\n",
    "\n",
    "from train import seed_everything, train_and_evaluate, CFG"
   ]
  },
  {
   "cell_type": "code",
   "execution_count": 2,
   "metadata": {},
   "outputs": [],
   "source": [
    "train_data = pd.read_parquet(\"gs://leoraggio-kaggle/amex-default-prediction/data/processed/train_data.parquet\")\n",
    "test_data = pd.read_parquet(\"gs://leoraggio-kaggle/amex-default-prediction/data/processed/test_data.parquet\")"
   ]
  },
  {
   "cell_type": "code",
   "execution_count": 3,
   "metadata": {},
   "outputs": [
    {
     "name": "stderr",
     "output_type": "stream",
     "text": [
      "100%|██████████| 1080/1080 [06:11<00:00,  2.91it/s] \n"
     ]
    },
    {
     "name": "stdout",
     "output_type": "stream",
     "text": [
      " \n",
      "--------------------------------------------------\n",
      "Training fold 0 with 1365 features...\n",
      "[LightGBM] [Info] Number of positive: 95062, number of negative: 272068\n",
      "[LightGBM] [Warning] Auto-choosing col-wise multi-threading, the overhead of testing was 1.519243 seconds.\n",
      "You can set `force_col_wise=true` to remove the overhead.\n",
      "[LightGBM] [Info] Total Bins 224105\n",
      "[LightGBM] [Info] Number of data points in the train set: 367130, number of used features: 1357\n",
      "[LightGBM] [Info] [binary:BoostFromScore]: pavg=0.258933 -> initscore=-1.051523\n",
      "[LightGBM] [Info] Start training from score -1.051523\n",
      "[500]\ttraining's binary_logloss: 0.336597\ttraining's amex_metric: 0.778669\tvalid_1's binary_logloss: 0.338448\tvalid_1's amex_metric: 0.771766\n",
      "Our fold 0 CV score is 0.7717657530095394\n",
      " \n",
      "--------------------------------------------------\n",
      "Training fold 1 with 1365 features...\n",
      "[LightGBM] [Info] Number of positive: 95062, number of negative: 272068\n",
      "[LightGBM] [Warning] Auto-choosing col-wise multi-threading, the overhead of testing was 1.198880 seconds.\n",
      "You can set `force_col_wise=true` to remove the overhead.\n",
      "[LightGBM] [Info] Total Bins 224220\n",
      "[LightGBM] [Info] Number of data points in the train set: 367130, number of used features: 1357\n",
      "[LightGBM] [Info] [binary:BoostFromScore]: pavg=0.258933 -> initscore=-1.051523\n",
      "[LightGBM] [Info] Start training from score -1.051523\n",
      "[500]\ttraining's binary_logloss: 0.336301\ttraining's amex_metric: 0.780489\tvalid_1's binary_logloss: 0.339539\tvalid_1's amex_metric: 0.764222\n",
      "Our fold 1 CV score is 0.7642216334708514\n",
      " \n",
      "--------------------------------------------------\n",
      "Training fold 2 with 1365 features...\n",
      "[LightGBM] [Info] Number of positive: 95062, number of negative: 272068\n",
      "[LightGBM] [Warning] Auto-choosing col-wise multi-threading, the overhead of testing was 1.195939 seconds.\n",
      "You can set `force_col_wise=true` to remove the overhead.\n",
      "[LightGBM] [Info] Total Bins 224167\n",
      "[LightGBM] [Info] Number of data points in the train set: 367130, number of used features: 1357\n",
      "[LightGBM] [Info] [binary:BoostFromScore]: pavg=0.258933 -> initscore=-1.051523\n",
      "[LightGBM] [Info] Start training from score -1.051523\n",
      "[500]\ttraining's binary_logloss: 0.336198\ttraining's amex_metric: 0.779214\tvalid_1's binary_logloss: 0.339855\tvalid_1's amex_metric: 0.767804\n",
      "Our fold 2 CV score is 0.7678042970969434\n",
      " \n",
      "--------------------------------------------------\n",
      "Training fold 3 with 1365 features...\n",
      "[LightGBM] [Info] Number of positive: 95063, number of negative: 272068\n",
      "[LightGBM] [Warning] Auto-choosing col-wise multi-threading, the overhead of testing was 1.132718 seconds.\n",
      "You can set `force_col_wise=true` to remove the overhead.\n",
      "[LightGBM] [Info] Total Bins 224129\n",
      "[LightGBM] [Info] Number of data points in the train set: 367131, number of used features: 1357\n",
      "[LightGBM] [Info] [binary:BoostFromScore]: pavg=0.258935 -> initscore=-1.051512\n",
      "[LightGBM] [Info] Start training from score -1.051512\n",
      "[500]\ttraining's binary_logloss: 0.335991\ttraining's amex_metric: 0.780506\tvalid_1's binary_logloss: 0.340625\tvalid_1's amex_metric: 0.762825\n",
      "Our fold 3 CV score is 0.7628254683858112\n",
      " \n",
      "--------------------------------------------------\n",
      "Training fold 4 with 1365 features...\n",
      "[LightGBM] [Info] Number of positive: 95063, number of negative: 272068\n",
      "[LightGBM] [Warning] Auto-choosing col-wise multi-threading, the overhead of testing was 1.179432 seconds.\n",
      "You can set `force_col_wise=true` to remove the overhead.\n",
      "[LightGBM] [Info] Total Bins 224188\n",
      "[LightGBM] [Info] Number of data points in the train set: 367131, number of used features: 1357\n",
      "[LightGBM] [Info] [binary:BoostFromScore]: pavg=0.258935 -> initscore=-1.051512\n",
      "[LightGBM] [Info] Start training from score -1.051512\n",
      "[500]\ttraining's binary_logloss: 0.336501\ttraining's amex_metric: 0.778766\tvalid_1's binary_logloss: 0.339486\tvalid_1's amex_metric: 0.768414\n",
      "Our fold 4 CV score is 0.7684138391171356\n",
      "Our out of folds CV score is 0.7671016118099163\n"
     ]
    }
   ],
   "source": [
    "seed_everything(CFG.seed)\n",
    "train_and_evaluate(train_data, test_data)"
   ]
  },
  {
   "cell_type": "code",
   "execution_count": null,
   "metadata": {},
   "outputs": [],
   "source": []
  }
 ],
 "metadata": {
  "kernelspec": {
   "display_name": "Python 3.7.12 ('base')",
   "language": "python",
   "name": "python3"
  },
  "language_info": {
   "codemirror_mode": {
    "name": "ipython",
    "version": 3
   },
   "file_extension": ".py",
   "mimetype": "text/x-python",
   "name": "python",
   "nbconvert_exporter": "python",
   "pygments_lexer": "ipython3",
   "version": "3.7.12"
  },
  "orig_nbformat": 4,
  "vscode": {
   "interpreter": {
    "hash": "d4d1e4263499bec80672ea0156c357c1ee493ec2b1c70f0acce89fc37c4a6abe"
   }
  }
 },
 "nbformat": 4,
 "nbformat_minor": 2
}
